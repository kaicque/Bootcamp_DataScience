{
  "nbformat": 4,
  "nbformat_minor": 0,
  "metadata": {
    "colab": {
      "name": "Desafio aula 5.ipynb",
      "provenance": [],
      "collapsed_sections": [
        "6fnzGa9W0w5T",
        "7xv_5mUXhPPy",
        "Ufs5kyd905-5",
        "g6i4LPUo1opf",
        "MS4wpinO2JKB"
      ],
      "authorship_tag": "ABX9TyM2aCXnYqTwIFR4bt+gGt1a",
      "include_colab_link": true
    },
    "kernelspec": {
      "name": "python3",
      "display_name": "Python 3"
    },
    "language_info": {
      "name": "python"
    }
  },
  "cells": [
    {
      "cell_type": "markdown",
      "metadata": {
        "id": "view-in-github",
        "colab_type": "text"
      },
      "source": [
        "<a href=\"https://colab.research.google.com/github/kaicque/Bootcamp_DataScience/blob/main/Desafio_aula_5.ipynb\" target=\"_parent\"><img src=\"https://colab.research.google.com/assets/colab-badge.svg\" alt=\"Open In Colab\"/></a>"
      ]
    },
    {
      "cell_type": "markdown",
      "metadata": {
        "id": "wKiTDgXHppwH"
      },
      "source": [
        "##Lista de desafios as serem cumpridos nesta análise\n",
        "Desafio 01: Buscar na documentação do Matplotlib como colocar um grid nos gráficos e adicionar nos gráficos de barra.\n",
        "\n",
        "Desafio 02: Fazer um gráfico e uma tabela do gasto dos outros estados em função do seu estado, ou qualquer outro de interesse.\n",
        "\n",
        "Desafio 03: Fazer o cálculo proporcional a população do seu estado e mais um a sua escolha.\n",
        "\n",
        "Desafio 04: Faça uma análise dos dados analisados, levante hipóteses e compartilhe com a gente no Discord.\n",
        "\n",
        "Desafio 05: Reproduza as análises feitas em aulas, refletindo e levantando hipóteses."
      ]
    },
    {
      "cell_type": "markdown",
      "metadata": {
        "id": "6fnzGa9W0w5T"
      },
      "source": [
        "#Importação e tratamento dos dados"
      ]
    },
    {
      "cell_type": "markdown",
      "metadata": {
        "id": "7xv_5mUXhPPy"
      },
      "source": [
        "##Importação de bibliotecas e dados"
      ]
    },
    {
      "cell_type": "code",
      "metadata": {
        "id": "eWVD-UL3GmDP",
        "colab": {
          "base_uri": "https://localhost:8080/"
        },
        "outputId": "2ebc890d-be80-4af8-f853-cae7a0f7a6bd"
      },
      "source": [
        "import pandas as pd\n",
        "import numpy as np\n",
        "import matplotlib.pyplot as plt\n",
        "import matplotlib.ticker as ticker\n",
        "from IPython.display import Image\n",
        "!git clone https://github.com/kaicque/Bootcamp_DataScience.git\n",
        "import seaborn as sns"
      ],
      "execution_count": 1,
      "outputs": [
        {
          "output_type": "stream",
          "text": [
            "Cloning into 'Bootcamp_DataScience'...\n",
            "remote: Enumerating objects: 48, done.\u001b[K\n",
            "remote: Counting objects: 100% (48/48), done.\u001b[K\n",
            "remote: Compressing objects: 100% (39/39), done.\u001b[K\n",
            "remote: Total 48 (delta 14), reused 17 (delta 5), pack-reused 0\u001b[K\n",
            "Unpacking objects: 100% (48/48), done.\n"
          ],
          "name": "stdout"
        }
      ]
    },
    {
      "cell_type": "code",
      "metadata": {
        "colab": {
          "base_uri": "https://localhost:8080/"
        },
        "id": "yzWAGo4zG3dO",
        "outputId": "9f1df9d7-357f-47b9-dcb2-976fb5ecaa82"
      },
      "source": [
        "dados = pd.read_csv(\"/content/Bootcamp_DataScience/Bases/Base por data de internação.csv\", encoding=\"iso-8859-1\",\n",
        "                    skiprows = 3, sep=\";\", skipfooter = 12,\n",
        "                    thousands=\".\", decimal=\",\")"
      ],
      "execution_count": 2,
      "outputs": [
        {
          "output_type": "stream",
          "text": [
            "/usr/local/lib/python3.7/dist-packages/ipykernel_launcher.py:3: ParserWarning: Falling back to the 'python' engine because the 'c' engine does not support skipfooter; you can avoid this warning by specifying engine='python'.\n",
            "  This is separate from the ipykernel package so we can avoid doing imports until\n"
          ],
          "name": "stderr"
        }
      ]
    },
    {
      "cell_type": "markdown",
      "metadata": {
        "id": "Ufs5kyd905-5"
      },
      "source": [
        "##Criação de lista de colunas usáveis (aquelas que todas as regiões tem valor preenchidos)"
      ]
    },
    {
      "cell_type": "code",
      "metadata": {
        "id": "y3lSi7MGHtNj"
      },
      "source": [
        "colunas_usaveis = dados.mean().index.tolist()\n",
        "colunas_usaveis.insert(0,\"Unidade da Federação\")"
      ],
      "execution_count": 3,
      "outputs": []
    },
    {
      "cell_type": "markdown",
      "metadata": {
        "id": "g6i4LPUo1opf"
      },
      "source": [
        "##Criação de um novo dataframe somente com os meses usáveis"
      ]
    },
    {
      "cell_type": "code",
      "metadata": {
        "id": "DHOLdnnzJWJl"
      },
      "source": [
        "usaveis = dados[colunas_usaveis]\n",
        "usaveis = usaveis.set_index(\"Unidade da Federação\")\n",
        "usaveis = usaveis.drop(\"Total\", axis=1) ## exclusão da coluna totalizadora original do dataframe pois fizemos tratamento de colunas, por isso precisamos refazer esse dado"
      ],
      "execution_count": 4,
      "outputs": []
    },
    {
      "cell_type": "markdown",
      "metadata": {
        "id": "MS4wpinO2JKB"
      },
      "source": [
        "##Criação novo dataframe com o totalizador considerando somente as colunas usaveis e ordenando pelo total"
      ]
    },
    {
      "cell_type": "code",
      "metadata": {
        "colab": {
          "base_uri": "https://localhost:8080/",
          "height": 403
        },
        "id": "Ekbyjy8a7Qk2",
        "outputId": "b3a0d424-dee2-4732-9d8b-a8dd7620743d"
      },
      "source": [
        "#Ordenando os dados pela colunas totais\n",
        "usaveis[\"Total\"] = usaveis.sum(axis=1)\n",
        "usaveisordenadas = usaveis.sort_values(by='Total', ascending=False)\n",
        "usaveisordenadas = usaveisordenadas.drop('Total', axis=1)\n",
        "usaveisordenadas = usaveisordenadas.iloc[:,6:] #pulando as primeiras colunas onde tem dados fragmentados"
      ],
      "execution_count": 5,
      "outputs": [
        {
          "output_type": "execute_result",
          "data": {
            "text/html": [
              "<div>\n",
              "<style scoped>\n",
              "    .dataframe tbody tr th:only-of-type {\n",
              "        vertical-align: middle;\n",
              "    }\n",
              "\n",
              "    .dataframe tbody tr th {\n",
              "        vertical-align: top;\n",
              "    }\n",
              "\n",
              "    .dataframe thead th {\n",
              "        text-align: right;\n",
              "    }\n",
              "</style>\n",
              "<table border=\"1\" class=\"dataframe\">\n",
              "  <thead>\n",
              "    <tr style=\"text-align: right;\">\n",
              "      <th></th>\n",
              "      <th>2008/Fev</th>\n",
              "      <th>2008/Mar</th>\n",
              "      <th>2008/Abr</th>\n",
              "      <th>2008/Mai</th>\n",
              "      <th>2008/Jun</th>\n",
              "      <th>2008/Jul</th>\n",
              "      <th>2008/Ago</th>\n",
              "      <th>2008/Set</th>\n",
              "      <th>2008/Out</th>\n",
              "      <th>2008/Nov</th>\n",
              "      <th>2008/Dez</th>\n",
              "      <th>2009/Jan</th>\n",
              "      <th>2009/Fev</th>\n",
              "      <th>2009/Mar</th>\n",
              "      <th>2009/Abr</th>\n",
              "      <th>2009/Mai</th>\n",
              "      <th>2009/Jun</th>\n",
              "      <th>2009/Jul</th>\n",
              "      <th>2009/Ago</th>\n",
              "      <th>2009/Set</th>\n",
              "      <th>2009/Out</th>\n",
              "      <th>2009/Nov</th>\n",
              "      <th>2009/Dez</th>\n",
              "      <th>2010/Jan</th>\n",
              "      <th>2010/Fev</th>\n",
              "      <th>2010/Mar</th>\n",
              "      <th>2010/Abr</th>\n",
              "      <th>2010/Mai</th>\n",
              "      <th>2010/Jun</th>\n",
              "      <th>2010/Jul</th>\n",
              "      <th>2010/Ago</th>\n",
              "      <th>2010/Set</th>\n",
              "      <th>2010/Out</th>\n",
              "      <th>2010/Nov</th>\n",
              "      <th>2010/Dez</th>\n",
              "      <th>2011/Jan</th>\n",
              "      <th>2011/Fev</th>\n",
              "      <th>2011/Mar</th>\n",
              "      <th>2011/Abr</th>\n",
              "      <th>2011/Mai</th>\n",
              "      <th>...</th>\n",
              "      <th>2017/Dez</th>\n",
              "      <th>2018/Jan</th>\n",
              "      <th>2018/Fev</th>\n",
              "      <th>2018/Mar</th>\n",
              "      <th>2018/Abr</th>\n",
              "      <th>2018/Mai</th>\n",
              "      <th>2018/Jun</th>\n",
              "      <th>2018/Jul</th>\n",
              "      <th>2018/Ago</th>\n",
              "      <th>2018/Set</th>\n",
              "      <th>2018/Out</th>\n",
              "      <th>2018/Nov</th>\n",
              "      <th>2018/Dez</th>\n",
              "      <th>2019/Jan</th>\n",
              "      <th>2019/Fev</th>\n",
              "      <th>2019/Mar</th>\n",
              "      <th>2019/Abr</th>\n",
              "      <th>2019/Mai</th>\n",
              "      <th>2019/Jun</th>\n",
              "      <th>2019/Jul</th>\n",
              "      <th>2019/Ago</th>\n",
              "      <th>2019/Set</th>\n",
              "      <th>2019/Out</th>\n",
              "      <th>2019/Nov</th>\n",
              "      <th>2019/Dez</th>\n",
              "      <th>2020/Jan</th>\n",
              "      <th>2020/Fev</th>\n",
              "      <th>2020/Mar</th>\n",
              "      <th>2020/Abr</th>\n",
              "      <th>2020/Mai</th>\n",
              "      <th>2020/Jun</th>\n",
              "      <th>2020/Jul</th>\n",
              "      <th>2020/Ago</th>\n",
              "      <th>2020/Set</th>\n",
              "      <th>2020/Out</th>\n",
              "      <th>2020/Nov</th>\n",
              "      <th>2020/Dez</th>\n",
              "      <th>2021/Jan</th>\n",
              "      <th>2021/Fev</th>\n",
              "      <th>2021/Mar</th>\n",
              "    </tr>\n",
              "    <tr>\n",
              "      <th>Unidade da Federação</th>\n",
              "      <th></th>\n",
              "      <th></th>\n",
              "      <th></th>\n",
              "      <th></th>\n",
              "      <th></th>\n",
              "      <th></th>\n",
              "      <th></th>\n",
              "      <th></th>\n",
              "      <th></th>\n",
              "      <th></th>\n",
              "      <th></th>\n",
              "      <th></th>\n",
              "      <th></th>\n",
              "      <th></th>\n",
              "      <th></th>\n",
              "      <th></th>\n",
              "      <th></th>\n",
              "      <th></th>\n",
              "      <th></th>\n",
              "      <th></th>\n",
              "      <th></th>\n",
              "      <th></th>\n",
              "      <th></th>\n",
              "      <th></th>\n",
              "      <th></th>\n",
              "      <th></th>\n",
              "      <th></th>\n",
              "      <th></th>\n",
              "      <th></th>\n",
              "      <th></th>\n",
              "      <th></th>\n",
              "      <th></th>\n",
              "      <th></th>\n",
              "      <th></th>\n",
              "      <th></th>\n",
              "      <th></th>\n",
              "      <th></th>\n",
              "      <th></th>\n",
              "      <th></th>\n",
              "      <th></th>\n",
              "      <th></th>\n",
              "      <th></th>\n",
              "      <th></th>\n",
              "      <th></th>\n",
              "      <th></th>\n",
              "      <th></th>\n",
              "      <th></th>\n",
              "      <th></th>\n",
              "      <th></th>\n",
              "      <th></th>\n",
              "      <th></th>\n",
              "      <th></th>\n",
              "      <th></th>\n",
              "      <th></th>\n",
              "      <th></th>\n",
              "      <th></th>\n",
              "      <th></th>\n",
              "      <th></th>\n",
              "      <th></th>\n",
              "      <th></th>\n",
              "      <th></th>\n",
              "      <th></th>\n",
              "      <th></th>\n",
              "      <th></th>\n",
              "      <th></th>\n",
              "      <th></th>\n",
              "      <th></th>\n",
              "      <th></th>\n",
              "      <th></th>\n",
              "      <th></th>\n",
              "      <th></th>\n",
              "      <th></th>\n",
              "      <th></th>\n",
              "      <th></th>\n",
              "      <th></th>\n",
              "      <th></th>\n",
              "      <th></th>\n",
              "      <th></th>\n",
              "      <th></th>\n",
              "      <th></th>\n",
              "      <th></th>\n",
              "    </tr>\n",
              "  </thead>\n",
              "  <tbody>\n",
              "    <tr>\n",
              "      <th>35 São Paulo</th>\n",
              "      <td>1.729620e+08</td>\n",
              "      <td>1.705567e+08</td>\n",
              "      <td>1.703382e+08</td>\n",
              "      <td>1.724621e+08</td>\n",
              "      <td>1.754930e+08</td>\n",
              "      <td>1.795699e+08</td>\n",
              "      <td>1.800051e+08</td>\n",
              "      <td>1.801517e+08</td>\n",
              "      <td>1.918599e+08</td>\n",
              "      <td>1.909273e+08</td>\n",
              "      <td>1.770939e+08</td>\n",
              "      <td>1.924121e+08</td>\n",
              "      <td>1.786413e+08</td>\n",
              "      <td>2.170117e+08</td>\n",
              "      <td>2.151281e+08</td>\n",
              "      <td>2.129052e+08</td>\n",
              "      <td>2.127155e+08</td>\n",
              "      <td>2.140794e+08</td>\n",
              "      <td>2.152656e+08</td>\n",
              "      <td>2.142499e+08</td>\n",
              "      <td>2.161171e+08</td>\n",
              "      <td>2.091840e+08</td>\n",
              "      <td>1.921570e+08</td>\n",
              "      <td>2.135128e+08</td>\n",
              "      <td>1.957879e+08</td>\n",
              "      <td>2.394114e+08</td>\n",
              "      <td>2.212029e+08</td>\n",
              "      <td>2.319228e+08</td>\n",
              "      <td>2.240438e+08</td>\n",
              "      <td>2.241577e+08</td>\n",
              "      <td>2.487619e+08</td>\n",
              "      <td>2.241210e+08</td>\n",
              "      <td>2.393542e+08</td>\n",
              "      <td>2.256391e+08</td>\n",
              "      <td>2.107109e+08</td>\n",
              "      <td>2.291469e+08</td>\n",
              "      <td>2.216600e+08</td>\n",
              "      <td>2.414456e+08</td>\n",
              "      <td>2.299206e+08</td>\n",
              "      <td>2.508174e+08</td>\n",
              "      <td>...</td>\n",
              "      <td>2.596379e+08</td>\n",
              "      <td>2.796517e+08</td>\n",
              "      <td>2.542191e+08</td>\n",
              "      <td>2.853474e+08</td>\n",
              "      <td>2.863719e+08</td>\n",
              "      <td>2.916791e+08</td>\n",
              "      <td>2.791022e+08</td>\n",
              "      <td>2.861512e+08</td>\n",
              "      <td>2.956691e+08</td>\n",
              "      <td>2.776856e+08</td>\n",
              "      <td>3.027666e+08</td>\n",
              "      <td>2.782684e+08</td>\n",
              "      <td>2.667703e+08</td>\n",
              "      <td>2.918937e+08</td>\n",
              "      <td>2.680835e+08</td>\n",
              "      <td>2.871550e+08</td>\n",
              "      <td>2.928705e+08</td>\n",
              "      <td>3.091409e+08</td>\n",
              "      <td>2.816218e+08</td>\n",
              "      <td>3.071951e+08</td>\n",
              "      <td>3.035841e+08</td>\n",
              "      <td>2.940841e+08</td>\n",
              "      <td>3.038664e+08</td>\n",
              "      <td>2.827918e+08</td>\n",
              "      <td>2.733575e+08</td>\n",
              "      <td>3.038659e+08</td>\n",
              "      <td>2.720507e+08</td>\n",
              "      <td>2.779387e+08</td>\n",
              "      <td>2.551787e+08</td>\n",
              "      <td>3.142763e+08</td>\n",
              "      <td>3.282936e+08</td>\n",
              "      <td>3.619869e+08</td>\n",
              "      <td>3.502687e+08</td>\n",
              "      <td>3.388725e+08</td>\n",
              "      <td>3.280558e+08</td>\n",
              "      <td>3.245998e+08</td>\n",
              "      <td>3.268462e+08</td>\n",
              "      <td>3.241154e+08</td>\n",
              "      <td>2.681931e+08</td>\n",
              "      <td>1.774083e+08</td>\n",
              "    </tr>\n",
              "    <tr>\n",
              "      <th>31 Minas Gerais</th>\n",
              "      <td>7.030109e+07</td>\n",
              "      <td>7.911901e+07</td>\n",
              "      <td>7.904632e+07</td>\n",
              "      <td>7.926807e+07</td>\n",
              "      <td>7.961919e+07</td>\n",
              "      <td>8.220921e+07</td>\n",
              "      <td>8.037412e+07</td>\n",
              "      <td>8.240913e+07</td>\n",
              "      <td>8.861348e+07</td>\n",
              "      <td>8.448700e+07</td>\n",
              "      <td>8.892863e+07</td>\n",
              "      <td>9.901816e+07</td>\n",
              "      <td>8.367512e+07</td>\n",
              "      <td>1.002586e+08</td>\n",
              "      <td>9.183133e+07</td>\n",
              "      <td>9.728970e+07</td>\n",
              "      <td>9.572340e+07</td>\n",
              "      <td>1.000500e+08</td>\n",
              "      <td>9.897718e+07</td>\n",
              "      <td>9.820212e+07</td>\n",
              "      <td>9.696239e+07</td>\n",
              "      <td>9.476764e+07</td>\n",
              "      <td>9.241277e+07</td>\n",
              "      <td>9.580656e+07</td>\n",
              "      <td>9.076489e+07</td>\n",
              "      <td>1.073899e+08</td>\n",
              "      <td>1.008360e+08</td>\n",
              "      <td>1.054946e+08</td>\n",
              "      <td>9.966612e+07</td>\n",
              "      <td>1.033654e+08</td>\n",
              "      <td>1.078443e+08</td>\n",
              "      <td>1.043411e+08</td>\n",
              "      <td>1.005254e+08</td>\n",
              "      <td>1.019436e+08</td>\n",
              "      <td>9.953895e+07</td>\n",
              "      <td>1.077661e+08</td>\n",
              "      <td>1.031494e+08</td>\n",
              "      <td>1.110771e+08</td>\n",
              "      <td>1.060943e+08</td>\n",
              "      <td>1.154872e+08</td>\n",
              "      <td>...</td>\n",
              "      <td>1.383666e+08</td>\n",
              "      <td>1.465106e+08</td>\n",
              "      <td>1.307340e+08</td>\n",
              "      <td>1.515068e+08</td>\n",
              "      <td>1.507026e+08</td>\n",
              "      <td>1.536049e+08</td>\n",
              "      <td>1.502625e+08</td>\n",
              "      <td>1.567219e+08</td>\n",
              "      <td>1.604849e+08</td>\n",
              "      <td>1.459986e+08</td>\n",
              "      <td>1.572946e+08</td>\n",
              "      <td>1.481728e+08</td>\n",
              "      <td>1.454224e+08</td>\n",
              "      <td>1.532364e+08</td>\n",
              "      <td>1.426908e+08</td>\n",
              "      <td>1.519762e+08</td>\n",
              "      <td>1.579579e+08</td>\n",
              "      <td>1.636411e+08</td>\n",
              "      <td>1.541742e+08</td>\n",
              "      <td>1.667759e+08</td>\n",
              "      <td>1.617747e+08</td>\n",
              "      <td>1.574378e+08</td>\n",
              "      <td>1.661651e+08</td>\n",
              "      <td>1.521715e+08</td>\n",
              "      <td>1.524733e+08</td>\n",
              "      <td>1.582658e+08</td>\n",
              "      <td>1.414634e+08</td>\n",
              "      <td>1.476549e+08</td>\n",
              "      <td>1.274473e+08</td>\n",
              "      <td>1.427463e+08</td>\n",
              "      <td>1.572766e+08</td>\n",
              "      <td>1.774666e+08</td>\n",
              "      <td>1.821761e+08</td>\n",
              "      <td>1.814225e+08</td>\n",
              "      <td>1.745856e+08</td>\n",
              "      <td>1.685647e+08</td>\n",
              "      <td>1.663770e+08</td>\n",
              "      <td>1.550645e+08</td>\n",
              "      <td>1.198774e+08</td>\n",
              "      <td>7.978084e+07</td>\n",
              "    </tr>\n",
              "    <tr>\n",
              "      <th>41 Paraná</th>\n",
              "      <td>4.885505e+07</td>\n",
              "      <td>5.561179e+07</td>\n",
              "      <td>5.611514e+07</td>\n",
              "      <td>5.557483e+07</td>\n",
              "      <td>5.609475e+07</td>\n",
              "      <td>5.980240e+07</td>\n",
              "      <td>5.669900e+07</td>\n",
              "      <td>5.809199e+07</td>\n",
              "      <td>6.136594e+07</td>\n",
              "      <td>5.966721e+07</td>\n",
              "      <td>5.781620e+07</td>\n",
              "      <td>6.038159e+07</td>\n",
              "      <td>5.723910e+07</td>\n",
              "      <td>6.907049e+07</td>\n",
              "      <td>6.405468e+07</td>\n",
              "      <td>6.868554e+07</td>\n",
              "      <td>6.793123e+07</td>\n",
              "      <td>7.095876e+07</td>\n",
              "      <td>6.922578e+07</td>\n",
              "      <td>6.784997e+07</td>\n",
              "      <td>6.855821e+07</td>\n",
              "      <td>6.715850e+07</td>\n",
              "      <td>6.309427e+07</td>\n",
              "      <td>6.690264e+07</td>\n",
              "      <td>6.450113e+07</td>\n",
              "      <td>7.713887e+07</td>\n",
              "      <td>7.075540e+07</td>\n",
              "      <td>7.345676e+07</td>\n",
              "      <td>7.183902e+07</td>\n",
              "      <td>7.301383e+07</td>\n",
              "      <td>7.615101e+07</td>\n",
              "      <td>7.424096e+07</td>\n",
              "      <td>7.304239e+07</td>\n",
              "      <td>7.636475e+07</td>\n",
              "      <td>7.051764e+07</td>\n",
              "      <td>7.471278e+07</td>\n",
              "      <td>7.131474e+07</td>\n",
              "      <td>7.691467e+07</td>\n",
              "      <td>7.423294e+07</td>\n",
              "      <td>8.170902e+07</td>\n",
              "      <td>...</td>\n",
              "      <td>1.055581e+08</td>\n",
              "      <td>1.161332e+08</td>\n",
              "      <td>1.070760e+08</td>\n",
              "      <td>1.223314e+08</td>\n",
              "      <td>1.247313e+08</td>\n",
              "      <td>1.270831e+08</td>\n",
              "      <td>1.226169e+08</td>\n",
              "      <td>1.279919e+08</td>\n",
              "      <td>1.312572e+08</td>\n",
              "      <td>1.206474e+08</td>\n",
              "      <td>1.295302e+08</td>\n",
              "      <td>1.218107e+08</td>\n",
              "      <td>1.129846e+08</td>\n",
              "      <td>1.241592e+08</td>\n",
              "      <td>1.177155e+08</td>\n",
              "      <td>1.239074e+08</td>\n",
              "      <td>1.274645e+08</td>\n",
              "      <td>1.326080e+08</td>\n",
              "      <td>1.248659e+08</td>\n",
              "      <td>1.347087e+08</td>\n",
              "      <td>1.271744e+08</td>\n",
              "      <td>1.262040e+08</td>\n",
              "      <td>1.338706e+08</td>\n",
              "      <td>1.262211e+08</td>\n",
              "      <td>1.135738e+08</td>\n",
              "      <td>1.223301e+08</td>\n",
              "      <td>1.161257e+08</td>\n",
              "      <td>1.147766e+08</td>\n",
              "      <td>9.778406e+07</td>\n",
              "      <td>1.110128e+08</td>\n",
              "      <td>1.152037e+08</td>\n",
              "      <td>1.238566e+08</td>\n",
              "      <td>1.250895e+08</td>\n",
              "      <td>1.217712e+08</td>\n",
              "      <td>1.275061e+08</td>\n",
              "      <td>1.334433e+08</td>\n",
              "      <td>1.221463e+08</td>\n",
              "      <td>1.069489e+08</td>\n",
              "      <td>8.313018e+07</td>\n",
              "      <td>4.348073e+07</td>\n",
              "    </tr>\n",
              "    <tr>\n",
              "      <th>43 Rio Grande do Sul</th>\n",
              "      <td>4.589770e+07</td>\n",
              "      <td>5.292870e+07</td>\n",
              "      <td>5.197242e+07</td>\n",
              "      <td>5.167935e+07</td>\n",
              "      <td>5.375967e+07</td>\n",
              "      <td>5.639165e+07</td>\n",
              "      <td>5.623376e+07</td>\n",
              "      <td>5.791017e+07</td>\n",
              "      <td>5.959212e+07</td>\n",
              "      <td>5.756574e+07</td>\n",
              "      <td>5.569692e+07</td>\n",
              "      <td>6.152238e+07</td>\n",
              "      <td>5.210164e+07</td>\n",
              "      <td>6.511197e+07</td>\n",
              "      <td>6.159083e+07</td>\n",
              "      <td>6.440229e+07</td>\n",
              "      <td>6.309064e+07</td>\n",
              "      <td>6.913700e+07</td>\n",
              "      <td>6.606263e+07</td>\n",
              "      <td>6.522201e+07</td>\n",
              "      <td>6.756941e+07</td>\n",
              "      <td>6.418912e+07</td>\n",
              "      <td>6.224428e+07</td>\n",
              "      <td>6.548839e+07</td>\n",
              "      <td>5.696453e+07</td>\n",
              "      <td>6.993358e+07</td>\n",
              "      <td>6.648684e+07</td>\n",
              "      <td>6.910837e+07</td>\n",
              "      <td>6.757077e+07</td>\n",
              "      <td>7.007475e+07</td>\n",
              "      <td>7.088401e+07</td>\n",
              "      <td>6.507979e+07</td>\n",
              "      <td>6.655602e+07</td>\n",
              "      <td>6.609703e+07</td>\n",
              "      <td>6.173710e+07</td>\n",
              "      <td>6.691891e+07</td>\n",
              "      <td>6.137076e+07</td>\n",
              "      <td>6.900497e+07</td>\n",
              "      <td>6.622507e+07</td>\n",
              "      <td>7.217267e+07</td>\n",
              "      <td>...</td>\n",
              "      <td>8.273757e+07</td>\n",
              "      <td>9.182567e+07</td>\n",
              "      <td>7.758201e+07</td>\n",
              "      <td>9.107833e+07</td>\n",
              "      <td>9.192677e+07</td>\n",
              "      <td>9.167813e+07</td>\n",
              "      <td>9.098989e+07</td>\n",
              "      <td>9.486101e+07</td>\n",
              "      <td>9.679964e+07</td>\n",
              "      <td>8.734427e+07</td>\n",
              "      <td>9.737110e+07</td>\n",
              "      <td>9.019077e+07</td>\n",
              "      <td>8.174888e+07</td>\n",
              "      <td>9.246710e+07</td>\n",
              "      <td>8.530100e+07</td>\n",
              "      <td>9.162434e+07</td>\n",
              "      <td>9.278795e+07</td>\n",
              "      <td>9.914394e+07</td>\n",
              "      <td>9.586259e+07</td>\n",
              "      <td>1.030448e+08</td>\n",
              "      <td>9.856615e+07</td>\n",
              "      <td>9.437157e+07</td>\n",
              "      <td>9.697350e+07</td>\n",
              "      <td>9.100655e+07</td>\n",
              "      <td>8.876486e+07</td>\n",
              "      <td>9.761409e+07</td>\n",
              "      <td>8.548852e+07</td>\n",
              "      <td>8.488149e+07</td>\n",
              "      <td>7.680675e+07</td>\n",
              "      <td>8.777733e+07</td>\n",
              "      <td>9.679936e+07</td>\n",
              "      <td>1.085365e+08</td>\n",
              "      <td>1.117623e+08</td>\n",
              "      <td>1.101079e+08</td>\n",
              "      <td>1.138868e+08</td>\n",
              "      <td>1.167383e+08</td>\n",
              "      <td>1.168340e+08</td>\n",
              "      <td>1.023176e+08</td>\n",
              "      <td>8.440464e+07</td>\n",
              "      <td>3.779883e+07</td>\n",
              "    </tr>\n",
              "    <tr>\n",
              "      <th>33 Rio de Janeiro</th>\n",
              "      <td>4.412816e+07</td>\n",
              "      <td>4.290085e+07</td>\n",
              "      <td>4.530650e+07</td>\n",
              "      <td>4.395135e+07</td>\n",
              "      <td>4.411111e+07</td>\n",
              "      <td>4.435906e+07</td>\n",
              "      <td>4.250083e+07</td>\n",
              "      <td>4.306646e+07</td>\n",
              "      <td>4.455331e+07</td>\n",
              "      <td>4.135151e+07</td>\n",
              "      <td>4.302476e+07</td>\n",
              "      <td>6.088546e+07</td>\n",
              "      <td>4.066838e+07</td>\n",
              "      <td>5.275354e+07</td>\n",
              "      <td>4.891668e+07</td>\n",
              "      <td>5.117740e+07</td>\n",
              "      <td>5.724194e+07</td>\n",
              "      <td>5.348566e+07</td>\n",
              "      <td>5.124409e+07</td>\n",
              "      <td>4.848948e+07</td>\n",
              "      <td>4.868907e+07</td>\n",
              "      <td>4.970837e+07</td>\n",
              "      <td>4.441342e+07</td>\n",
              "      <td>5.599371e+07</td>\n",
              "      <td>4.483335e+07</td>\n",
              "      <td>5.447324e+07</td>\n",
              "      <td>7.812863e+07</td>\n",
              "      <td>5.602888e+07</td>\n",
              "      <td>5.143583e+07</td>\n",
              "      <td>5.387391e+07</td>\n",
              "      <td>5.786729e+07</td>\n",
              "      <td>5.373602e+07</td>\n",
              "      <td>5.237934e+07</td>\n",
              "      <td>5.024253e+07</td>\n",
              "      <td>5.089133e+07</td>\n",
              "      <td>7.400562e+07</td>\n",
              "      <td>6.114923e+07</td>\n",
              "      <td>5.534790e+07</td>\n",
              "      <td>5.581691e+07</td>\n",
              "      <td>5.908654e+07</td>\n",
              "      <td>...</td>\n",
              "      <td>6.737880e+07</td>\n",
              "      <td>7.245304e+07</td>\n",
              "      <td>6.506033e+07</td>\n",
              "      <td>7.442874e+07</td>\n",
              "      <td>7.457918e+07</td>\n",
              "      <td>7.941904e+07</td>\n",
              "      <td>7.599176e+07</td>\n",
              "      <td>7.757601e+07</td>\n",
              "      <td>7.891690e+07</td>\n",
              "      <td>7.286942e+07</td>\n",
              "      <td>7.918840e+07</td>\n",
              "      <td>7.401840e+07</td>\n",
              "      <td>7.083151e+07</td>\n",
              "      <td>7.966333e+07</td>\n",
              "      <td>7.414288e+07</td>\n",
              "      <td>7.506315e+07</td>\n",
              "      <td>7.685958e+07</td>\n",
              "      <td>8.267099e+07</td>\n",
              "      <td>7.868923e+07</td>\n",
              "      <td>8.818241e+07</td>\n",
              "      <td>8.362411e+07</td>\n",
              "      <td>8.156194e+07</td>\n",
              "      <td>8.253468e+07</td>\n",
              "      <td>7.477847e+07</td>\n",
              "      <td>7.514907e+07</td>\n",
              "      <td>8.041186e+07</td>\n",
              "      <td>7.314721e+07</td>\n",
              "      <td>7.459599e+07</td>\n",
              "      <td>6.943794e+07</td>\n",
              "      <td>8.972528e+07</td>\n",
              "      <td>8.813569e+07</td>\n",
              "      <td>9.594114e+07</td>\n",
              "      <td>8.979547e+07</td>\n",
              "      <td>8.188669e+07</td>\n",
              "      <td>8.057024e+07</td>\n",
              "      <td>8.280731e+07</td>\n",
              "      <td>9.056735e+07</td>\n",
              "      <td>8.720191e+07</td>\n",
              "      <td>6.087310e+07</td>\n",
              "      <td>4.914988e+07</td>\n",
              "    </tr>\n",
              "  </tbody>\n",
              "</table>\n",
              "<p>5 rows × 158 columns</p>\n",
              "</div>"
            ],
            "text/plain": [
              "                          2008/Fev      2008/Mar  ...      2021/Fev      2021/Mar\n",
              "Unidade da Federação                              ...                            \n",
              "35 São Paulo          1.729620e+08  1.705567e+08  ...  2.681931e+08  1.774083e+08\n",
              "31 Minas Gerais       7.030109e+07  7.911901e+07  ...  1.198774e+08  7.978084e+07\n",
              "41 Paraná             4.885505e+07  5.561179e+07  ...  8.313018e+07  4.348073e+07\n",
              "43 Rio Grande do Sul  4.589770e+07  5.292870e+07  ...  8.440464e+07  3.779883e+07\n",
              "33 Rio de Janeiro     4.412816e+07  4.290085e+07  ...  6.087310e+07  4.914988e+07\n",
              "\n",
              "[5 rows x 158 columns]"
            ]
          },
          "metadata": {
            "tags": []
          },
          "execution_count": 5
        }
      ]
    },
    {
      "cell_type": "code",
      "metadata": {
        "id": "MKlqKOFvg6jP"
      },
      "source": [
        ""
      ],
      "execution_count": 5,
      "outputs": []
    },
    {
      "cell_type": "markdown",
      "metadata": {
        "id": "x5np1hPz24jJ"
      },
      "source": [
        "#Criação das analises"
      ]
    },
    {
      "cell_type": "markdown",
      "metadata": {
        "id": "OfInP4tl3Obl"
      },
      "source": [
        "##Desafio 1 - Buscar na documentação do Matplotlib como colocar um grid nos gráficos e adicionar nos gráficos de barra."
      ]
    },
    {
      "cell_type": "code",
      "metadata": {
        "colab": {
          "base_uri": "https://localhost:8080/",
          "height": 409
        },
        "id": "xgaLyIfzPZ3F",
        "outputId": "50ebdf3f-a8c2-4b31-df72-268938ac9086"
      },
      "source": [
        "ax = usaveisordenadas.iloc[:5,:].loc[:,'2020/Jan':'2020/Ago'].T.plot(figsize=(13,6), cmap=plt.get_cmap('Paired')) \n",
        "ax.yaxis.set_major_formatter(ticker.StrMethodFormatter(\"R${x:,.2f}\"))\n",
        "#criando uma palheta de 27 cores\n",
        "sns.set_palette(sns.color_palette(\"gist_rainbow\", 27))\n",
        "#Criando grid para o gráfico requisito do desafio 1\n",
        "#ax.grid(color='black', linestyle='--', linewidth=1) opção 1 de grid\n",
        "ax.grid(axis='both',linestyle='dotted', color='b') #opção 2 de grid, mais bonita\n",
        "#Adicionando Titulo ao gráfico\n",
        "plt.title(\"Despesas de procedimentos hospitalares por local de internação contabilizado por data da internação\")\n",
        "#Posicionando legenda\n",
        "plt.legend(loc=0, bbox_to_anchor=(1, 1))\n",
        "#Adicionando legenda dos eixos\n",
        "plt.xlabel('Ano/Mês', fontsize=15)\n",
        "plt.ylabel('Valores', fontsize=15)\n",
        "plt.show()"
      ],
      "execution_count": 15,
      "outputs": [
        {
          "output_type": "display_data",
          "data": {
            "image/png": "[encoded data removed]",
            "text/plain": [
              "<Figure size 936x432 with 1 Axes>"
            ]
          },
          "metadata": {
            "tags": [],
            "needs_background": "light"
          }
        }
      ]
    },
    {
      "cell_type": "markdown",
      "metadata": {
        "id": "kgD7mTUSlacn"
      },
      "source": [
        "## Desafio 2 - Fazer um gráfico e uma tabela do gasto dos outros estados em função do seu estado, ou qualquer outro de interesse."
      ]
    },
    {
      "cell_type": "code",
      "metadata": {
        "colab": {
          "base_uri": "https://localhost:8080/"
        },
        "id": "UpdwuBPKkZTf",
        "outputId": "b2307f04-4bcc-4d72-fdc4-b0e93fd98af2"
      },
      "source": [
        "#criação de tabela dos gastos de 2019\n",
        "gasto2019 = usaveisordenadas.loc[:,'2019/Jan':'2019/Dez']\n",
        "gasto2019[\"Total\"] = gasto2019.sum(axis=1)\n",
        "gasto2019 = gasto2019.sort_values(by='Total', ascending=False)\n",
        "gasto2019 = gasto2019.loc[:,'Total']"
      ],
      "execution_count": 23,
      "outputs": [
        {
          "output_type": "stream",
          "text": [
            "/usr/local/lib/python3.7/dist-packages/ipykernel_launcher.py:3: SettingWithCopyWarning: \n",
            "A value is trying to be set on a copy of a slice from a DataFrame.\n",
            "Try using .loc[row_indexer,col_indexer] = value instead\n",
            "\n",
            "See the caveats in the documentation: https://pandas.pydata.org/pandas-docs/stable/user_guide/indexing.html#returning-a-view-versus-a-copy\n",
            "  This is separate from the ipykernel package so we can avoid doing imports until\n"
          ],
          "name": "stderr"
        }
      ]
    },
    {
      "cell_type": "code",
      "metadata": {
        "id": "sgbEhCzOlaJL"
      },
      "source": [
        "gastos2019comparativos = gasto2019/gasto2019[\"35 São Paulo\"]"
      ],
      "execution_count": 26,
      "outputs": []
    },
    {
      "cell_type": "code",
      "metadata": {
        "colab": {
          "base_uri": "https://localhost:8080/",
          "height": 517
        },
        "id": "Rug2wpqmlYoT",
        "outputId": "fb2236a6-8307-4551-a285-3354cf1b67ec"
      },
      "source": [
        "gastos2019comparativos.plot(kind=\"bar\",figsize=(13,6))\n",
        "#ax.yaxis.set_major_formatter(ticker.StrMethodFormatter(\"R${x:,.2f}\"))\n",
        "#ax.yaxis.set_major_formatter(ticker.StrMethodFormatter(\"<%d>\"))\n",
        "#ax.yaxis.set_major_formatter(ticker.PercentFormatter(1.0))\n",
        "#ax.yaxis.set_major_formatter(FuncFormatter(lambda y, _: '{:.0%}'.format(y))) \n",
        "#ax.yaxis.set_major_formatter(FuncFormatter('{0:.0%}'.format))\n",
        "#ax.yaxis.set_major_formatter(ticker.FuncFormatter(lambda x,pos: \"[%.2f]\" % x)\n",
        "\n",
        "#criando uma palheta de 27 cores\n",
        "sns.set_palette(sns.color_palette(\"gist_rainbow\", 27))\n",
        "#Criando grid para o gráfico requisito do desafio 1\n",
        "#ax.grid(color='black', linestyle='--', linewidth=1) opção 1 de grid\n",
        "ax.grid(axis='both',linestyle='dotted', color='b') #opção 2 de grid, mais bonita\n",
        "#Criação da linha base do estado utilizado como base para os outros estados\n",
        "plt.hlines(y=1, xmin=0, xmax=27,\n",
        "           colors=\"red\", label= \"Linha Base\", linestyles='dotted')\n",
        "#Adicionando Titulo ao gráfico\n",
        "plt.title(\"Gastos de 2019 em relação ao gasto de São Paulo\")\n",
        "#Posicionando legenda\n",
        "plt.legend(loc=0, bbox_to_anchor=(1, 1))\n",
        "#Adicionando legenda dos eixos\n",
        "plt.xlabel('Estados', fontsize=15)\n",
        "plt.ylabel('Valores', fontsize=15)\n",
        "plt.show()"
      ],
      "execution_count": 55,
      "outputs": [
        {
          "output_type": "display_data",
          "data": {
            "image/png": "[encoded data removed]",
            "text/plain": [
              "<Figure size 936x432 with 1 Axes>"
            ]
          },
          "metadata": {
            "tags": [],
            "needs_background": "light"
          }
        }
      ]
    },
    {
      "cell_type": "code",
      "metadata": {
        "id": "Ze5w2QKt-b56"
      },
      "source": [
        "#Dividindo os valores por 1,000,000 para ter o gasto  em milhões\n",
        "#usaveisordenadas = (usaveisordenadas / 1000000)"
      ],
      "execution_count": null,
      "outputs": []
    },
    {
      "cell_type": "code",
      "metadata": {
        "id": "h-Lq2TFyhyyy"
      },
      "source": [
        "#Criando o parametro de meses filtrados para replicar o gráfico acima de outro modo\n",
        "#mesesfiltrados = usaveisordenadas.columns[54:150]\n",
        "#mesesfiltrados"
      ],
      "execution_count": null,
      "outputs": []
    },
    {
      "cell_type": "markdown",
      "metadata": {
        "id": "aotANIhTqPuc"
      },
      "source": [
        "##Desafio 03 - Fazer o cálculo proporcional a população do seu estado e mais um a sua escolha."
      ]
    },
    {
      "cell_type": "code",
      "metadata": {
        "colab": {
          "base_uri": "https://localhost:8080/"
        },
        "id": "ZunYmLHTqIC7",
        "outputId": "c28361ab-ccd2-4771-d834-84da2cc1cf2e"
      },
      "source": [
        "#Inclusão da base de dados de quantidade de habitantes de cada estado\n",
        "populacao = pd.read_csv(\"/content/Bootcamp_DataScience/Bases/População estimada de 2019.csv\", encoding=\"iso-8859-1\",\n",
        "                    skiprows = 3, sep=\";\", skipfooter = 12,\n",
        "                    thousands=\".\", decimal=\",\")\n",
        "populacao = populacao.set_index(\"Unidade da Federação\")"
      ],
      "execution_count": 65,
      "outputs": [
        {
          "output_type": "stream",
          "text": [
            "/usr/local/lib/python3.7/dist-packages/ipykernel_launcher.py:3: ParserWarning: Falling back to the 'python' engine because the 'c' engine does not support skipfooter; you can avoid this warning by specifying engine='python'.\n",
            "  This is separate from the ipykernel package so we can avoid doing imports until\n"
          ],
          "name": "stderr"
        }
      ]
    },
    {
      "cell_type": "code",
      "metadata": {
        "id": "NvvAWJx3qfj0"
      },
      "source": [
        "# Criação dos valores gastos por habitante\n",
        "gastoppopulacaosp = gasto2019['35 São Paulo']/populacao.loc['35 São Paulo']\n",
        "gastoppopulacaorj = gasto2019['33 Rio de Janeiro']/populacao.loc['33 Rio de Janeiro']\n",
        "#gastoppopulacaopr = gasto2019['41 Paraná']/populacao.loc['41 Paraná']\n",
        "#gastoppopulacaopa = gasto2019['15 Pará']/populacao.loc['15 Pará']\n",
        "#gastoppopulacaope = gasto2019['26 Pernambuco']/populacao.loc['26 Pernambuco']"
      ],
      "execution_count": 88,
      "outputs": []
    },
    {
      "cell_type": "code",
      "metadata": {
        "id": "0_cIBk42q16H"
      },
      "source": [
        "#dados_interesse = pd.DataFrame( data = [gastoppopulacaosp, gastoppopulacaorj,gastoppopulacaopr,gastoppopulacaopa,gastoppopulacaope], index = ['35 São Paulo','33 Rio de Janeiro','41 Paraná','15 Pará','26 Pernambuco'])\n",
        "dados_interesse = pd.DataFrame( data = [gastoppopulacaosp, gastoppopulacaorj], index = ['35 São Paulo','33 Rio de Janeiro'])"
      ],
      "execution_count": 94,
      "outputs": []
    },
    {
      "cell_type": "code",
      "metadata": {
        "colab": {
          "base_uri": "https://localhost:8080/",
          "height": 483
        },
        "id": "7q3UwNYttwBc",
        "outputId": "0d600c51-5e8f-464c-d94f-fa933c8cbd43"
      },
      "source": [
        "dados_interesse.plot(kind=\"bar\",figsize=(13,6))\n",
        "#criando uma palheta de 27 cores\n",
        "sns.set_palette(sns.color_palette(\"gist_rainbow\", 27))\n",
        "#Criando grid para o gráfico requisito do desafio 1\n",
        "#ax.grid(color='black', linestyle='--', linewidth=1) opção 1 de grid\n",
        "ax.grid(axis='both',linestyle='dotted', color='b') #opção 2 de grid, mais bonita\n",
        "#Adicionando Titulo ao gráfico\n",
        "plt.title(\"Gastos de 2019 por habitante\")\n",
        "#Posicionando legenda\n",
        "plt.legend(loc=0, bbox_to_anchor=(1, 1))\n",
        "#Adicionando legenda dos eixos\n",
        "plt.xlabel('Estados', fontsize=15)\n",
        "plt.ylabel('Valores', fontsize=15)\n",
        "plt.show()"
      ],
      "execution_count": 93,
      "outputs": [
        {
          "output_type": "display_data",
          "data": {
            "image/png": "[encoded data removed]",
            "text/plain": [
              "<Figure size 936x432 with 1 Axes>"
            ]
          },
          "metadata": {
            "tags": [],
            "needs_background": "light"
          }
        }
      ]
    },
    {
      "cell_type": "markdown",
      "metadata": {
        "id": "KBJBbz_0vhP2"
      },
      "source": [
        "##Desafio 4 e 5: \n",
        "-Desafio 04: Faça uma análise dos dados analisados, levante hipóteses e compartilhe com a gente no Discord.\n",
        "\n",
        "-Desafio 05: Reproduza as análises feitas em aulas, refletindo e levantando hipóteses."
      ]
    },
    {
      "cell_type": "code",
      "metadata": {
        "colab": {
          "base_uri": "https://localhost:8080/",
          "height": 483
        },
        "id": "3FEtLW1pvo4-",
        "outputId": "3e485df2-fe7e-4b12-aac5-6319093b2b25"
      },
      "source": [
        "dadoscomparados.plot(kind=\"bar\",figsize=(13,6))\n",
        "#criando uma palheta de 27 cores\n",
        "sns.set_palette(sns.color_palette(\"gist_rainbow\", 27))\n",
        "#Criando grid para o gráfico requisito do desafio 1\n",
        "#ax.grid(color='black', linestyle='--', linewidth=1) opção 1 de grid\n",
        "ax.grid(axis='both',linestyle='dotted', color='b') #opção 2 de grid, mais bonita\n",
        "#Adicionando Titulo ao gráfico\n",
        "plt.title(\"Gastos de 2019 comparado com o de São Paulo\")\n",
        "#Posicionando legenda\n",
        "plt.legend(loc=0, bbox_to_anchor=(1, 1))\n",
        "#Adicionando legenda dos eixos\n",
        "plt.xlabel('Estados', fontsize=15)\n",
        "plt.ylabel('Valores', fontsize=15)\n",
        "plt.show()"
      ],
      "execution_count": 99,
      "outputs": [
        {
          "output_type": "display_data",
          "data": {
            "image/png": "[encoded data removed]",
            "text/plain": [
              "<Figure size 936x432 with 1 Axes>"
            ]
          },
          "metadata": {
            "tags": [],
            "needs_background": "light"
          }
        }
      ]
    },
    {
      "cell_type": "code",
      "metadata": {
        "colab": {
          "base_uri": "https://localhost:8080/",
          "height": 517
        },
        "id": "2WSQri3wwBq8",
        "outputId": "d3937330-f97e-474a-f050-cca60bf0c0ae"
      },
      "source": [
        "gastos2019comparativos.plot(kind=\"bar\",figsize=(13,6))\n",
        "#criando uma palheta de 27 cores\n",
        "sns.set_palette(sns.color_palette(\"gist_rainbow\", 27))\n",
        "#Criação da linha base do estado utilizado como base para os outros estados\n",
        "plt.hlines(y=1, xmin=0, xmax=27,\n",
        "           colors=\"red\", label= \"Linha Base\", linestyles='dotted')\n",
        "#Adicionando Titulo ao gráfico\n",
        "plt.title(\"Gastos de 2019 em relação ao gasto de São Paulo\")\n",
        "#Posicionando legenda\n",
        "plt.legend(loc=0, bbox_to_anchor=(1, 1))\n",
        "#Adicionando legenda dos eixos\n",
        "plt.xlabel('Estados', fontsize=15)\n",
        "plt.ylabel('Valores', fontsize=15)\n",
        "plt.show()"
      ],
      "execution_count": 126,
      "outputs": [
        {
          "output_type": "display_data",
          "data": {
            "image/png": "[encoded data removed]",
            "text/plain": [
              "<Figure size 936x432 with 1 Axes>"
            ]
          },
          "metadata": {
            "tags": [],
            "needs_background": "light"
          }
        }
      ]
    },
    {
      "cell_type": "markdown",
      "metadata": {
        "id": "hzjmrOxxvkXR"
      },
      "source": [
        "Comparando o gasto por habitante entre o SP e RJ onde, RJ fica com quase 80% do gasto de SP, mas em valores absolutos fica com menos de 40%. Isso mostra que o gasto de são paulo está maior por conta da quantidade de habitante. \n",
        "Claro que os valores por habitantes ainda tem uma diferencia, o que pode indicar que os gastos tem outra váriável influênciadora que não está no modelo. \n",
        "Mas de imediato explicamos a variação de gastos absolutos entre os estados."
      ]
    },
    {
      "cell_type": "code",
      "metadata": {
        "id": "jVU9D4SMzc1a"
      },
      "source": [
        ""
      ],
      "execution_count": null,
      "outputs": []
    }
  ]
}